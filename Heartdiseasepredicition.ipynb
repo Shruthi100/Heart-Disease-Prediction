{
  "nbformat": 4,
  "nbformat_minor": 0,
  "metadata": {
    "colab": {
      "name": "Heartdiseasepredicition.ipynb",
      "provenance": [],
      "collapsed_sections": [],
      "toc_visible": true,
      "mount_file_id": "1v8JXXQ920JJm9ZDK0v0IEfHuaS4-WSQh",
      "authorship_tag": "ABX9TyMP/JRV5NQAgugWR0fPRCWg",
      "include_colab_link": true
    },
    "kernelspec": {
      "name": "python3",
      "display_name": "Python 3"
    },
    "language_info": {
      "name": "python"
    }
  },
  "cells": [
    {
      "cell_type": "markdown",
      "metadata": {
        "id": "view-in-github",
        "colab_type": "text"
      },
      "source": [
        "<a href=\"https://colab.research.google.com/github/YashaswiniRajanna/Heart-Disease-Prediction/blob/main/Heartdiseasepredicition.ipynb\" target=\"_parent\"><img src=\"https://colab.research.google.com/assets/colab-badge.svg\" alt=\"Open In Colab\"/></a>"
      ]
    },
    {
      "cell_type": "markdown",
      "metadata": {
        "id": "INnmXK21Hwzm"
      },
      "source": [
        "### Importing dependencies\n"
      ]
    },
    {
      "cell_type": "code",
      "metadata": {
        "id": "gSglOQcjHoGl"
      },
      "source": [
        "import numpy as np #lists like arrays in python\n",
        "import pandas as pd #dataframes for structuring csv\n",
        "from sklearn.model_selection import train_test_split #to split data\n",
        "from sklearn.linear_model import LogisticRegression #model selection\n",
        "from sklearn.metrics import accuracy_score #to evaluate the model accuarcy"
      ],
      "execution_count": 14,
      "outputs": []
    },
    {
      "cell_type": "markdown",
      "metadata": {
        "id": "ovNsVDgoKMfr"
      },
      "source": [
        "###Data Collection and Processing \n"
      ]
    },
    {
      "cell_type": "code",
      "metadata": {
        "id": "zlCoK9xtKjlu"
      },
      "source": [
        "#loading the csv data to pandas framework\n",
        "heart_data=pd.read_csv('/content/data.csv')"
      ],
      "execution_count": 13,
      "outputs": []
    },
    {
      "cell_type": "code",
      "metadata": {
        "id": "WkeXw4z2LdHC"
      },
      "source": [
        "#print first 5 row of the dataset\n",
        "heart_data.head()"
      ],
      "execution_count": null,
      "outputs": []
    },
    {
      "cell_type": "code",
      "metadata": {
        "id": "ibcPWjZvLZuY"
      },
      "source": [
        "#print last 5 rows of the heart dataset\n",
        "heart_data.tail()"
      ],
      "execution_count": null,
      "outputs": []
    },
    {
      "cell_type": "code",
      "metadata": {
        "id": "rfO1XlwpPtDQ"
      },
      "source": [
        ""
      ],
      "execution_count": null,
      "outputs": []
    }
  ]
}